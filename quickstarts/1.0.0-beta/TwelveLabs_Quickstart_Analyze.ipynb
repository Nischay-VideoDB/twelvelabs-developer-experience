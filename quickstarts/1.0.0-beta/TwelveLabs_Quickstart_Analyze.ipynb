{
 "cells": [
  {
   "cell_type": "markdown",
   "metadata": {
    "id": "LcFAkSKdxM-T"
   },
   "source": [
    "<table align=\"left\">\n",
    "  <td>\n",
    "    <a target=\"_blank\" href=\"https://colab.research.google.com/github/twelvelabs-io/twelvelabs-developer-experience/blob/main/quickstarts/1.0.0-beta/TwelveLabs_Quickstart_Analyze.ipynb\"><img src=\"https://www.tensorflow.org/images/colab_logo_32px.png\" />Run in  Colab</a>\n",
    "  </td>\n",
    "</table>"
   ]
  },
  {
   "cell_type": "markdown",
   "metadata": {
    "id": "VmpYRcFNT30r"
   },
   "source": [
    "# Analyze videos\n",
    "This guide shows how to utilize the TwelveLabs Python SDK to analyze videos and generate text based on their content.\n",
    "\n",
    "Note that the Analyze API suite offers three distinct endpoints tailored to meet various requirements. Each endpoint has been designed with specific levels of flexibility and customization to accommodate different needs.\n",
    "\n",
    "- `/gist`: Generates titles, topics, and hashtags.\n",
    "- `/summarize`: Generates summaries, chapters, and highlights.\n",
    "- `/analyze`: Analyzes videos and generates open-ended text based on their content.\n",
    "\n",
    "For details, see the [Analyze videos](https://docs.twelvelabs.io/docs/guides/analyze-videos) page."
   ]
  },
  {
   "cell_type": "markdown",
   "metadata": {},
   "source": [
    "# Prerequisites\n",
    "Before you begin, ensure the following prerequisites are met:\n",
    "\n",
    "- [Sign up](https://playground.twelvelabs.io/) for a free account and obtain your API key from the [API Key](https://playground.twelvelabs.io/dashboard/api-key) page. No credit card is required to use the Free plan. This plan allows you to index up to 600 minutes of videos, which is sufficient for a small project. \n",
    "- The videos you wish to upload must meet the requirements in the [Prerequisites](https://docs.twelvelabs.io/v1.3/docs/guides/generate-text-from-video/summaries-chapters-and-highlights#prerequisites) section of the **Summaries, chapters, and highlights** page.\n",
    "\n"
   ]
  },
  {
   "cell_type": "markdown",
   "metadata": {},
   "source": [
    "# Procedure"
   ]
  },
  {
   "cell_type": "markdown",
   "metadata": {},
   "source": [
    "## Install the TwelveLabs Python SDK"
   ]
  },
  {
   "cell_type": "code",
   "execution_count": null,
   "metadata": {},
   "outputs": [],
   "source": [
    "%pip install twelvelabs --pre"
   ]
  },
  {
   "cell_type": "markdown",
   "metadata": {},
   "source": [
    "## Import the required packages"
   ]
  },
  {
   "cell_type": "code",
   "execution_count": 4,
   "metadata": {},
   "outputs": [],
   "source": [
    "import uuid\n",
    "from twelvelabs import TwelveLabs\n",
    "from twelvelabs.indexes import IndexesCreateRequestModelsItem\n",
    "from twelvelabs.tasks import TasksRetrieveResponse"
   ]
  },
  {
   "cell_type": "markdown",
   "metadata": {},
   "source": [
    "## Configure your API key\n"
   ]
  },
  {
   "cell_type": "code",
   "execution_count": null,
   "metadata": {},
   "outputs": [],
   "source": [
    "# For Google Colab, store your API key as a Secret named `TL_API_KEY`. If you don't know how to create a Colab Secret, see https://medium.com/@parthdasawant/how-to-use-secrets-in-google-colab-450c38e3ec75.\n",
    "\n",
    "from google.colab import userdata\n",
    "TL_API_KEY = userdata.get(\"TL_API_KEY\")\n",
    "\n",
    "# For other Python environments, you can use environment variables\n",
    "# TL_API_KEY = os.environ.get('TL_API_KEY')"
   ]
  },
  {
   "cell_type": "markdown",
   "metadata": {},
   "source": [
    "## Create an index\n",
    "\n",
    "An index is a basic unit for organizing and storing video data consisting of video embeddings and metadata. Indexes facilitate information retrieval and processing.\n",
    "\n",
    "When creating a new index, you must specify at least the following information:\n",
    "- **Name**: Use a brief and descriptive name to facilitate future reference and management.\n",
    "- **Model configuration**: Provide a list containing the video understanding models and the associated model options you want to enable.\n",
    "\n",
    "TwelveLabs provides two distinct model types:\n",
    "\n",
    "- **Embedding models (Marengo)**: This model performs tasks such as search and embedding generation , enabling enhanced video understanding.\n",
    "- **Generative models (Pegasus)**: This model generates text based on your videos.\n",
    "\n",
    "Model options determine what information the video understanding model will process:\n",
    "- **visual**: Analyzes visual content, including actions, objects, events, text (OCR), and brand logos.\n",
    "- **audio**: Analyzes audio content, including ambient sounds and human speech."
   ]
  },
  {
   "cell_type": "code",
   "execution_count": null,
   "metadata": {},
   "outputs": [],
   "source": [
    "client = TwelveLabs(api_key=TL_API_KEY)\n",
    "\n",
    "index = client.indexes.create(\n",
    "    index_name=\"<YOUR_INDEX_NAME>\",\n",
    "    models=[\n",
    "        IndexesCreateRequestModelsItem(\n",
    "            model_name=\"pegasus1.2\",\n",
    "            model_options=[\"visual\", \"audio\"]\n",
    "        )\n",
    "    ]\n",
    ")\n",
    "print(f\"Created index: id={index.id}\")"
   ]
  },
  {
   "cell_type": "markdown",
   "metadata": {},
   "source": [
    "## Upload videos to your index"
   ]
  },
  {
   "cell_type": "code",
   "execution_count": null,
   "metadata": {},
   "outputs": [],
   "source": [
    "task = client.tasks.create(\n",
    "    index_id=index.id, video_url=\"<YOUR_VIDEO_URL>\")\n",
    "print(f\"Created task: id={task.id}\")\n",
    "# 4. Monitor the indexing process\n",
    "def on_task_update(task: TasksRetrieveResponse):\n",
    "    print(f\"  Status={task.status}\")\n",
    "task = client.tasks.wait_for_done(sleep_interval= 5, task_id=task.id, callback=on_task_update)\n",
    "if task.status != \"ready\":\n",
    "    raise RuntimeError(f\"Indexing failed with status {task.status}\")\n",
    "print(\n",
    "    f\"Upload complete. The unique identifier of your video is {task.video_id}.\")"
   ]
  },
  {
   "cell_type": "markdown",
   "metadata": {
    "id": "qNhC07lCYGHg"
   },
   "source": [
    "## Analyze videos to generate text"
   ]
  },
  {
   "cell_type": "code",
   "execution_count": null,
   "metadata": {
    "colab": {
     "base_uri": "https://localhost:8080/"
    },
    "id": "SeGb7DSpYHjT",
    "outputId": "1a63585d-a4c4-4116-f2f4-ca83527f7181"
   },
   "outputs": [],
   "source": [
    "gist = client.gist(video_id=task.video_id,types=[\"title\", \"topic\", \"hashtag\"])\n",
    "print(f\"Title={gist.title}\\nTopics={gist.topics}\\nHashtags={gist.hashtags}\")\n",
    "\n",
    "res_summary = client.summarize(\n",
    "    video_id=task.video_id,\n",
    "    type=\"summary\",\n",
    "    # prompt=\"<YOUR_PROMPT>\",\n",
    "    # temperature= 0.2\n",
    ")\n",
    "res_chapters = client.summarize(\n",
    "    video_id=task.video_id,\n",
    "    type=\"chapter\",\n",
    "    # prompt=\"<YOUR_PROMPT>\",\n",
    "    # temperature= 0.2\n",
    ")\n",
    "res_highlights = client.summarize(\n",
    "    video_id=task.video_id,\n",
    "    type=\"highlight\",\n",
    "    # prompt=\"<YOUR_PROMPT>\",\n",
    "    # temperature= 0.2\n",
    ")\n",
    "#6. Process the results\n",
    "print(f\"Summary: {res_summary.summary}\")\n",
    "for chapter in res_chapters.chapters:\n",
    "    print(\n",
    "        f\"\"\"Chapter {chapter.chapter_number},\n",
    "start={chapter.start_sec},\n",
    "end={chapter.end_sec}\n",
    "Title: {chapter.chapter_title}\n",
    "Summary: {chapter.chapter_summary}\n",
    "\"\"\"\n",
    "    )\n",
    "for highlight in res_highlights.highlights:\n",
    "    print(\n",
    "        f\"Highlight: {highlight.highlight}, start: {highlight.start_sec}, end: {highlight.end_sec}\")\n",
    "\n",
    "text_stream = client.analyze_stream(\n",
    "    video_id=task.video_id,\n",
    "    prompt=\"<YOUR_PROMPT>\",\n",
    "    # temperature=0.2\n",
    ")\n",
    "# 6. Process the results\n",
    "for text in text_stream:\n",
    "    if text.event_type == \"text_generation\":\n",
    "        print(text.text)"
   ]
  }
 ],
 "metadata": {
  "colab": {
   "provenance": []
  },
  "kernelspec": {
   "display_name": ".venv (3.13.3)",
   "language": "python",
   "name": "python3"
  },
  "language_info": {
   "codemirror_mode": {
    "name": "ipython",
    "version": 3
   },
   "file_extension": ".py",
   "mimetype": "text/x-python",
   "name": "python",
   "nbconvert_exporter": "python",
   "pygments_lexer": "ipython3",
   "version": "3.13.3"
  }
 },
 "nbformat": 4,
 "nbformat_minor": 0
}
