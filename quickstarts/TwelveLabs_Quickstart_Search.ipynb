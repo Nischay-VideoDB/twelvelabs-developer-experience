{
 "cells": [
  {
   "cell_type": "markdown",
   "metadata": {
    "id": "yMOpOuAtwwFo"
   },
   "source": [
    "<table align=\"left\">\n",
    "  <td>\n",
    "    <a target=\"_blank\" href=\"https://colab.research.google.com/github/twelvelabs-io/twelvelabs-developer-experience/blob/main/quickstarts/1.0.0-beta/TwelveLabs_Quickstart_Search.ipynb\"><img src=\"https://www.tensorflow.org/images/colab_logo_32px.png\" />Run in  Colab</a>\n",
    "  </td>\n",
    "</table>"
   ]
  },
  {
   "cell_type": "markdown",
   "metadata": {
    "id": "VmpYRcFNT30r"
   },
   "source": [
    "# Search\n",
    "This guide shows how to utilize the TwelveLabs Python SDK for searching within your video content."
   ]
  },
  {
   "cell_type": "markdown",
   "metadata": {},
   "source": [
    "# Prerequisites\n",
    "Before you begin, ensure the following prerequisites are met:\n",
    "\n",
    "- [Sign up](https://playground.twelvelabs.io/) for a free account and obtain your API key from the [API Key](https://playground.twelvelabs.io/dashboard/api-key) page. No credit card is required to use the Free plan. This plan allows you to index up to 600 minutes of videos, which is sufficient for a small project. \n",
    "- The videos you wish to upload must meet the requirements in the [Prerequisites](https://docs.twelvelabs.io/v1.3/docs/guides/search#prerequisites) section of the **Search** page.\n",
    "\n"
   ]
  },
  {
   "cell_type": "markdown",
   "metadata": {},
   "source": [
    "# Procedure"
   ]
  },
  {
   "cell_type": "markdown",
   "metadata": {},
   "source": [
    "## Install the pre-release version of the TwelveLabs SDK"
   ]
  },
  {
   "cell_type": "code",
   "execution_count": null,
   "metadata": {},
   "outputs": [],
   "source": [
    "%pip install twelvelabs"
   ]
  },
  {
   "cell_type": "markdown",
   "metadata": {},
   "source": [
    "## Import the required packages"
   ]
  },
  {
   "cell_type": "code",
   "execution_count": 9,
   "metadata": {},
   "outputs": [],
   "source": [
    "import uuid\n",
    "from twelvelabs import TwelveLabs\n",
    "from twelvelabs.indexes import IndexesCreateRequestModelsItem\n",
    "from twelvelabs.tasks import TasksRetrieveResponse"
   ]
  },
  {
   "cell_type": "markdown",
   "metadata": {},
   "source": [
    "## Configure your API key\n"
   ]
  },
  {
   "cell_type": "code",
   "execution_count": null,
   "metadata": {},
   "outputs": [],
   "source": [
    "# For Google Colab, store your API key as a Secret named `TL_API_KEY`. If you don't know how to create a Colab Secret, see https://medium.com/@parthdasawant/how-to-use-secrets-in-google-colab-450c38e3ec75.\n",
    "\n",
    "from google.colab import userdata\n",
    "TL_API_KEY = userdata.get(\"TL_API_KEY\")\n",
    "\n",
    "# For other Python environments, you can use environment variables\n",
    "# TL_API_KEY = os.environ.get('TL_API_KEY')"
   ]
  },
  {
   "cell_type": "markdown",
   "metadata": {},
   "source": [
    "## Create an index\n",
    "\n",
    "An index is a basic unit for organizing and storing video data consisting of video embeddings and metadata. Indexes facilitate information retrieval and processing.\n",
    "\n",
    "When creating a new index, you must specify at least the following information:\n",
    "- **Name**: Use a brief and descriptive name to facilitate future reference and management.\n",
    "- **Model configuration**: Provide a list containing the video understanding models and the associated model options you want to enable.\n",
    "\n",
    "TwelveLabs provides two distinct model types:\n",
    "\n",
    "- **Embedding models (Marengo)**: This model performs tasks such as search and embedding generation , enabling enhanced video understanding.\n",
    "- **Generative models (Pegasus)**: This model generates text based on your videos.\n",
    "\n",
    "Model options determine what information the video understanding model will process:\n",
    "- **visual**: Analyzes visual content, including actions, objects, events, text (OCR), and brand logos.\n",
    "- **audio**: Analyzes audio content, including ambient sounds and human speech."
   ]
  },
  {
   "cell_type": "code",
   "execution_count": null,
   "metadata": {},
   "outputs": [],
   "source": [
    "client = TwelveLabs(api_key=TL_API_KEY)\n",
    "\n",
    "index = client.indexes.create(\n",
    "    index_name=\"<YOUR_INDEX_NAME>\",\n",
    "    models=[\n",
    "        IndexesCreateRequestModelsItem(\n",
    "            model_name=\"marengo2.7\",\n",
    "            model_options=[\"visual\", \"audio\"]\n",
    "        )\n",
    "    ]\n",
    ")\n",
    "print(f\"Created index: id={index.id}\")\n"
   ]
  },
  {
   "cell_type": "markdown",
   "metadata": {},
   "source": [
    "## Upload videos to your index"
   ]
  },
  {
   "cell_type": "code",
   "execution_count": null,
   "metadata": {},
   "outputs": [],
   "source": [
    "task = client.tasks.create(\n",
    "    index_id=index.id, video_url=\"<YOUR_VIDEO_URL>\")\n",
    "print(f\"Created task: id={task.id}\")\n",
    "# 4. Monitor the indexing process\n",
    "def on_task_update(task: TasksRetrieveResponse):\n",
    "    print(f\"  Status={task.status}\")\n",
    "task = client.tasks.wait_for_done(sleep_interval= 5, task_id=task.id, callback=on_task_update)\n",
    "if task.status != \"ready\":\n",
    "    raise RuntimeError(f\"Indexing failed with status {task.status}\")\n",
    "print(\n",
    "    f\"Upload complete. The unique identifier of your video is {task.video_id}.\")\n"
   ]
  },
  {
   "cell_type": "markdown",
   "metadata": {},
   "source": [
    "## Perform searches"
   ]
  },
  {
   "cell_type": "markdown",
   "metadata": {},
   "source": [
    "**Using text queries**:"
   ]
  },
  {
   "cell_type": "code",
   "execution_count": null,
   "metadata": {},
   "outputs": [],
   "source": [
    "search_pager = client.search.query(\n",
    "    index_id=index.id,\n",
    "    query_text=\"Steve Jobs\",\n",
    "    search_options=[\"visual\", \"audio\"],\n",
    "    # operator=\"or\"\n",
    ")\n",
    "\n",
    "print(\"Search results:\")\n",
    "for clip in search_pager:\n",
    "    print(\n",
    "        f\" video_id {clip.video_id} score={clip.score} start={clip.start} end={clip.end} confidence={clip.confidence}\"\n",
    "    )"
   ]
  },
  {
   "cell_type": "markdown",
   "metadata": {},
   "source": [
    "**Using image queries**"
   ]
  },
  {
   "cell_type": "code",
   "execution_count": null,
   "metadata": {},
   "outputs": [],
   "source": [
    "search_pager = client.search.query(\n",
    "    index_id=index.id,\n",
    "    query_media_type=\"image\",\n",
    "    search_options=[\"visual\"],\n",
    "    query_media_url=\"<YOUR_IMAGE_URL>\"\n",
    "    # operator=\"or\"\n",
    ")\n",
    "\n",
    "print(\"Search results:\")\n",
    "for clip in search_pager:\n",
    "    print(\n",
    "        f\" video_id {clip.video_id} score={clip.score} start={clip.start} end={clip.end} confidence={clip.confidence}\"\n",
    "    )"
   ]
  },
  {
   "cell_type": "markdown",
   "metadata": {
    "id": "PQ-gihrzrsm7"
   },
   "source": []
  }
 ],
 "metadata": {
  "colab": {
   "provenance": []
  },
  "kernelspec": {
   "display_name": ".venv (3.13.3)",
   "language": "python",
   "name": "python3"
  },
  "language_info": {
   "codemirror_mode": {
    "name": "ipython",
    "version": 3
   },
   "file_extension": ".py",
   "mimetype": "text/x-python",
   "name": "python",
   "nbconvert_exporter": "python",
   "pygments_lexer": "ipython3",
   "version": "3.13.3"
  }
 },
 "nbformat": 4,
 "nbformat_minor": 1
}
